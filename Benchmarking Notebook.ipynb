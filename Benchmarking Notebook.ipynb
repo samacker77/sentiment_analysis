{
 "cells": [
  {
   "cell_type": "markdown",
   "metadata": {},
   "source": [
    "## Sentiment Analysis\n",
    "> First we train the Convolutional Neural Network on 'training_20k.txt' or 'training_50k.txt'. The CNN model returns accuracy. After the training, a pickle file is saved of the model.\n",
    "This pickle file is used to test the performance of model on unseen data.\n",
    "> To run on augmented data change train file name.\n",
    "\n",
    "* The difference between training and unseen data accuracy should be minimum. UNSEEN ACCURACY can be lower than training."
   ]
  },
  {
   "cell_type": "code",
   "execution_count": 1,
   "metadata": {},
   "outputs": [
    {
     "name": "stderr",
     "output_type": "stream",
     "text": [
      "Using TensorFlow backend.\n",
      "/home/shivani/.local/lib/python3.7/site-packages/tensorflow/python/framework/dtypes.py:526: FutureWarning: Passing (type, 1) or '1type' as a synonym of type is deprecated; in a future version of numpy, it will be understood as (type, (1,)) / '(1,)type'.\n",
      "  _np_qint8 = np.dtype([(\"qint8\", np.int8, 1)])\n",
      "/home/shivani/.local/lib/python3.7/site-packages/tensorflow/python/framework/dtypes.py:527: FutureWarning: Passing (type, 1) or '1type' as a synonym of type is deprecated; in a future version of numpy, it will be understood as (type, (1,)) / '(1,)type'.\n",
      "  _np_quint8 = np.dtype([(\"quint8\", np.uint8, 1)])\n",
      "/home/shivani/.local/lib/python3.7/site-packages/tensorflow/python/framework/dtypes.py:528: FutureWarning: Passing (type, 1) or '1type' as a synonym of type is deprecated; in a future version of numpy, it will be understood as (type, (1,)) / '(1,)type'.\n",
      "  _np_qint16 = np.dtype([(\"qint16\", np.int16, 1)])\n",
      "/home/shivani/.local/lib/python3.7/site-packages/tensorflow/python/framework/dtypes.py:529: FutureWarning: Passing (type, 1) or '1type' as a synonym of type is deprecated; in a future version of numpy, it will be understood as (type, (1,)) / '(1,)type'.\n",
      "  _np_quint16 = np.dtype([(\"quint16\", np.uint16, 1)])\n",
      "/home/shivani/.local/lib/python3.7/site-packages/tensorflow/python/framework/dtypes.py:530: FutureWarning: Passing (type, 1) or '1type' as a synonym of type is deprecated; in a future version of numpy, it will be understood as (type, (1,)) / '(1,)type'.\n",
      "  _np_qint32 = np.dtype([(\"qint32\", np.int32, 1)])\n",
      "/home/shivani/.local/lib/python3.7/site-packages/tensorflow/python/framework/dtypes.py:535: FutureWarning: Passing (type, 1) or '1type' as a synonym of type is deprecated; in a future version of numpy, it will be understood as (type, (1,)) / '(1,)type'.\n",
      "  np_resource = np.dtype([(\"resource\", np.ubyte, 1)])\n"
     ]
    }
   ],
   "source": [
    "from keras.layers.core import Dense, Activation, Dropout\n",
    "from keras.layers.recurrent import LSTM\n",
    "from keras.layers import Bidirectional\n",
    "import keras.layers as layers\n",
    "from keras.models import Sequential\n",
    "from keras.models import load_model\n",
    "from keras.callbacks import EarlyStopping\n",
    "from sklearn.utils import shuffle\n",
    "from sklearn.metrics import accuracy_score,f1_score,average_precision_score,confusion_matrix,roc_auc_score,roc_curve\n",
    "import pandas as pd\n",
    "import math\n",
    "import time\n",
    "import numpy as np\n",
    "import random\n",
    "from random import randint\n",
    "random.seed(3)\n",
    "import datetime, re, operator\n",
    "from random import shuffle\n",
    "from time import gmtime, strftime\n",
    "import seaborn as sns\n",
    "import gc\n",
    "import matplotlib.pyplot as plt\n",
    "import joblib\n",
    "import os\n",
    "os.environ['TF_CPP_MIN_LOG_LEVEL'] = '3' #get rid of warnings\n",
    "from os import listdir\n",
    "from os.path import isfile, join, isdir\n",
    "import pickle\n",
    "import csv"
   ]
  },
  {
   "cell_type": "code",
   "execution_count": 2,
   "metadata": {},
   "outputs": [],
   "source": [
    "#--------------------------------------------------\n",
    "#--Globals------------------------------------------\n",
    "num_classes=2\n",
    "input_size=50\n",
    "word2vec_len=300\n",
    "percent_dataset=0.1\n",
    "#sentiment_analysis_path = '../data/sentiment_analysis/'\n",
    "huge_word2vec = 'glove.840B.300d.txt'\n",
    "train_file = 'training_50k.txt'\n",
    "test_file = 'testing.txt'\n",
    "unseen_data = 'unseen_original.csv'\n",
    "unseen_test_csv = 'unseen_test.csv'\n",
    "unseen_test_txt =\"unseen_test.txt\"\n",
    "#------------------------------------------------------\n",
    "#---------------------------------------------------"
   ]
  },
  {
   "cell_type": "code",
   "execution_count": 3,
   "metadata": {},
   "outputs": [],
   "source": [
    "def load_pickle(file):\n",
    "    return pickle.load(open(file, 'rb'))"
   ]
  },
  {
   "cell_type": "markdown",
   "metadata": {},
   "source": [
    "##### Download word2vec (File Size - 5.2GB)"
   ]
  },
  {
   "cell_type": "code",
   "execution_count": 4,
   "metadata": {},
   "outputs": [],
   "source": [
    "#!wget http://nlp.stanford.edu/data/glove.840B.300d.zip"
   ]
  },
  {
   "cell_type": "code",
   "execution_count": 5,
   "metadata": {},
   "outputs": [],
   "source": [
    "#!unzip glove.840B.300d.zip"
   ]
  },
  {
   "cell_type": "code",
   "execution_count": 6,
   "metadata": {},
   "outputs": [],
   "source": [
    "def gen_vocab_dicts(output_pickle_path, huge_word2vec,train_file):\n",
    "\n",
    "    vocab = set()\n",
    "    text_embeddings = open(huge_word2vec, 'r').readlines()\n",
    "    word2vec = {}\n",
    "    try:\n",
    "        all_lines = open(train_file, \"r\").readlines()\n",
    "        for line in all_lines:\n",
    "            words = line[:-1].split(' ')\n",
    "            for word in words:\n",
    "                vocab.add(word)\n",
    "    except:\n",
    "        print(txt_path, \"has an error\")\n",
    "    \n",
    "    print(len(vocab), \"unique words found\")\n",
    "\n",
    "    # load the word embeddings, and only add the word to the dictionary if we need it\n",
    "    for line in text_embeddings:\n",
    "        items = line.split(' ')\n",
    "        word = items[0]\n",
    "        if word in vocab:\n",
    "            vec = items[1:]\n",
    "            word2vec[word] = np.asarray(vec, dtype = 'float32')\n",
    "    print(len(word2vec), \"matches between unique words and word2vec dictionary\")\n",
    "        \n",
    "    pickle.dump(word2vec, open(output_pickle_path, 'wb'))\n",
    "    print(\"dictionaries outputted to\", output_pickle_path)"
   ]
  },
  {
   "cell_type": "code",
   "execution_count": 7,
   "metadata": {},
   "outputs": [
    {
     "name": "stdout",
     "output_type": "stream",
     "text": [
      "131961 unique words found\n",
      "35302 matches between unique words and word2vec dictionary\n",
      "dictionaries outputted to word2vec.p\n"
     ]
    }
   ],
   "source": [
    "gen_vocab_dicts('word2vec.p',huge_word2vec,train_file)"
   ]
  },
  {
   "cell_type": "code",
   "execution_count": 8,
   "metadata": {},
   "outputs": [],
   "source": [
    "word2vec_pickle ='word2vec.p'\n",
    "word2vec = load_pickle(word2vec_pickle)"
   ]
  },
  {
   "cell_type": "code",
   "execution_count": 9,
   "metadata": {},
   "outputs": [],
   "source": [
    "def run_cnn(train_file, test_file, num_classes, percent_dataset):\n",
    "    \n",
    "    #initialize model\n",
    "    model = build_cnn(input_size, word2vec_len, num_classes)\n",
    "    \n",
    "    #load data\n",
    "    train_x, train_y = get_x_y(train_file, num_classes, word2vec_len, input_size, word2vec, percent_dataset)\n",
    "    test_x, test_y = get_x_y(test_file, num_classes, word2vec_len, input_size, word2vec, 1)\n",
    "    \n",
    "    #implement early stopping\n",
    "    callbacks = [EarlyStopping(monitor='val_loss', patience=3)]\n",
    "    \n",
    "    #train model\n",
    "    model.fit(train_x, \n",
    "              train_y, \n",
    "              epochs=10000000, \n",
    "              callbacks=callbacks,\n",
    "              validation_split=0.1, \n",
    "              batch_size=1024, \n",
    "              shuffle=True, \n",
    "              verbose=0)\n",
    "    pickle.dump(model, open('trained_model.pkl', 'wb'))\n",
    "\n",
    "    #model = load_model('checkpoints/lol')\n",
    "\n",
    "    #evaluate model\n",
    "    #print(type(test_x))\n",
    "    #print(test_x)\n",
    "    y_pred = model.predict(test_x)\n",
    "    test_y_cat = one_hot_to_categorical(test_y)\n",
    "    y_pred_cat = one_hot_to_categorical(y_pred)\n",
    "    acc = accuracy_score(test_y_cat, y_pred_cat)\n",
    "    print(acc)\n",
    "    #clean memory\n",
    "    train_x, train_y, test_x, test_y, model = None, None, None, None, None\n",
    "    gc.collect()\n",
    "    \n",
    "    #print other metrics \n",
    "    \n",
    "    print(\"F1 Score: {0:0.2f}\".format(f1_score(test_y_cat,y_pred_cat)))\n",
    "    print('Average precision-recall score: {0:0.2f}'.format(\n",
    "      average_precision_score(test_y_cat,y_pred_cat)))\n",
    "    cf_matrix=confusion_matrix(test_y_cat,y_pred_cat)\n",
    "    sns.heatmap(cf_matrix, annot=True)\n",
    "    print(\"No of wrong predictions:{}\".format(cf_matrix[0][1]+cf_matrix[1][0]))\n",
    "    print(\"Roc Auc Score: {0:0.2f}\".format(roc_auc_score(test_y_cat,y_pred_cat)))\n",
    "    fpr, tpr, thresholds = roc_curve(test_y_cat,y_pred_cat)\n",
    "    plt.title('Receiver Operating Characteristic')\n",
    "    plt.plot(fpr, tpr, 'b')\n",
    "    plt.legend(loc = 'lower right')\n",
    "    plt.plot([0, 1], [0, 1],'r--')\n",
    "    plt.xlim([0, 1])\n",
    "    plt.ylim([0, 1])\n",
    "    plt.ylabel('True Positive Rate')\n",
    "    plt.xlabel('False Positive Rate')\n",
    "    plt.show()\n",
    "\n",
    "    #return the accuracy\n",
    "    #print(\"data with shape:\", train_x.shape, train_y.shape, 'train=', train_file, 'test=', test_file, 'with fraction', percent_dataset, 'had acc', acc\n",
    "    return acc*100"
   ]
  },
  {
   "cell_type": "markdown",
   "metadata": {},
   "source": [
    "### Convolutional Neural Network"
   ]
  },
  {
   "cell_type": "code",
   "execution_count": 10,
   "metadata": {},
   "outputs": [],
   "source": [
    "def build_cnn(sentence_length, word2vec_len, num_classes):\n",
    "    model = None\n",
    "    model = Sequential()\n",
    "    model.add(layers.Conv1D(128, 5, activation='relu', input_shape=(sentence_length, word2vec_len)))\n",
    "    model.add(layers.GlobalMaxPooling1D())\n",
    "    model.add(Dense(20, activation='relu'))\n",
    "    model.add(Dense(num_classes, kernel_initializer='normal', activation='softmax'))\n",
    "    model.compile(loss='categorical_crossentropy', optimizer='adam', metrics=['accuracy'])\n",
    "    return model"
   ]
  },
  {
   "cell_type": "code",
   "execution_count": 9,
   "metadata": {},
   "outputs": [],
   "source": [
    "def get_x_y(train_txt, num_classes, word2vec_len, input_size, word2vec, percent_dataset):\n",
    "    \n",
    "    #read in lines\n",
    "    #print(train_txt)\n",
    "    train_lines = open(train_txt, 'r').readlines()\n",
    "    shuffle(train_lines)\n",
    "    train_lines = train_lines[:int(percent_dataset*len(train_lines))]\n",
    "    num_lines = len(train_lines)\n",
    "    \n",
    "    #initialize x and y matrix\n",
    "    x_matrix = None\n",
    "    y_matrix = None\n",
    "    try:\n",
    "        x_matrix = np.zeros((num_lines, input_size, word2vec_len))\n",
    "    except:\n",
    "        print(\"Error!\", num_lines, input_size, word2vec_len)\n",
    "    y_matrix = np.zeros((num_lines, num_classes))\n",
    "    \n",
    "    #insert values\n",
    "    for i, line in enumerate(train_lines):\n",
    "        parts = line[:-1].split('\\t')\n",
    "        label = int(parts[0])\n",
    "        sentence = parts[1]\n",
    "        \n",
    "        #insert x\n",
    "        words = sentence.split(' ')\n",
    "        words = words[:x_matrix.shape[1]] #cut off if too long\n",
    "        for j, word in enumerate(words):\n",
    "            if word in word2vec:\n",
    "                x_matrix[i, j, :] = word2vec[word]\n",
    "        \n",
    "        #insert y\n",
    "        y_matrix[i][label] = 1.0\n",
    "    return x_matrix, y_matrix"
   ]
  },
  {
   "cell_type": "code",
   "execution_count": 12,
   "metadata": {},
   "outputs": [],
   "source": [
    "def one_hot_to_categorical(y):\n",
    "    assert len(y.shape) == 2\n",
    "    return np.argmax(y, axis=1)"
   ]
  },
  {
   "cell_type": "code",
   "execution_count": 13,
   "metadata": {},
   "outputs": [
    {
     "name": "stdout",
     "output_type": "stream",
     "text": [
      "WARNING:tensorflow:From /home/shivani/.local/lib/python3.7/site-packages/tensorflow/python/ops/resource_variable_ops.py:435: colocate_with (from tensorflow.python.framework.ops) is deprecated and will be removed in a future version.\n",
      "Instructions for updating:\n",
      "Colocations handled automatically by placer.\n",
      "WARNING:tensorflow:From /home/shivani/.local/lib/python3.7/site-packages/tensorflow/python/ops/math_ops.py:3066: to_int32 (from tensorflow.python.ops.math_ops) is deprecated and will be removed in a future version.\n",
      "Instructions for updating:\n",
      "Use tf.cast instead.\n",
      "WARNING:tensorflow:From /home/shivani/.local/lib/python3.7/site-packages/tensorflow/python/ops/math_grad.py:102: div (from tensorflow.python.ops.math_ops) is deprecated and will be removed in a future version.\n",
      "Instructions for updating:\n",
      "Deprecated in favor of operator or tf.math.divide.\n"
     ]
    },
    {
     "name": "stderr",
     "output_type": "stream",
     "text": [
      "No handles with labels found to put in legend.\n"
     ]
    },
    {
     "name": "stdout",
     "output_type": "stream",
     "text": [
      "0.8536\n",
      "F1 Score: 0.92\n",
      "Average precision-recall score: 0.86\n",
      "No of wrong predictions:1464\n",
      "Roc Auc Score: 0.55\n"
     ]
    },
    {
     "data": {
      "image/png": "[encoded data removed]",
      "text/plain": [
       "<Figure size 432x288 with 2 Axes>"
      ]
     },
     "metadata": {
      "needs_background": "light"
     },
     "output_type": "display_data"
    }
   ],
   "source": [
    "train_accuracy = run_cnn(train_file,test_file,num_classes,percent_dataset)"
   ]
  },
  {
   "cell_type": "markdown",
   "metadata": {},
   "source": [
    "----"
   ]
  },
  {
   "cell_type": "markdown",
   "metadata": {},
   "source": [
    "## Testing on unseen data"
   ]
  },
  {
   "cell_type": "code",
   "execution_count": 10,
   "metadata": {},
   "outputs": [],
   "source": [
    "import csv\n",
    "file = unseen_test_csv\n",
    "file_name, file_ext = os.path.splitext(file)\n",
    "with open(file,'r') as csv_file:\n",
    "    csv_reader = csv.reader(csv_file)\n",
    "    next(csv_reader)\n",
    "    newfile = unseen_test_txt\n",
    "\n",
    "    for line in csv_reader:\n",
    "        with open(newfile, 'a') as new_txt:    #new file has .txt extn\n",
    "            txt_writer = csv.writer(new_txt, delimiter = '\\t') #writefile\n",
    "            txt_writer.writerow(line)  "
   ]
  },
  {
   "cell_type": "code",
   "execution_count": 11,
   "metadata": {},
   "outputs": [
    {
     "name": "stdout",
     "output_type": "stream",
     "text": [
      "WARNING:tensorflow:From /home/shivani/.local/lib/python3.7/site-packages/tensorflow/python/ops/resource_variable_ops.py:435: colocate_with (from tensorflow.python.framework.ops) is deprecated and will be removed in a future version.\n",
      "Instructions for updating:\n",
      "Colocations handled automatically by placer.\n",
      "WARNING:tensorflow:From /home/shivani/.local/lib/python3.7/site-packages/tensorflow/python/ops/math_ops.py:3066: to_int32 (from tensorflow.python.ops.math_ops) is deprecated and will be removed in a future version.\n",
      "Instructions for updating:\n",
      "Use tf.cast instead.\n",
      "WARNING:tensorflow:From /home/shivani/.local/lib/python3.7/site-packages/tensorflow/python/ops/math_grad.py:102: div (from tensorflow.python.ops.math_ops) is deprecated and will be removed in a future version.\n",
      "Instructions for updating:\n",
      "Deprecated in favor of operator or tf.math.divide.\n"
     ]
    }
   ],
   "source": [
    "model=joblib.load('trained_model.pkl')"
   ]
  },
  {
   "cell_type": "code",
   "execution_count": null,
   "metadata": {},
   "outputs": [],
   "source": [
    "test_x, test_y = get_x_y(unseen_test_txt, num_classes, word2vec_len, input_size, word2vec, 1)"
   ]
  },
  {
   "cell_type": "code",
   "execution_count": null,
   "metadata": {},
   "outputs": [],
   "source": [
    "y_pred=model.predict(test_x)\n",
    "test_y_cat = one_hot_to_categorical(test_y)\n",
    "y_pred_cat = one_hot_to_categorical(y_pred)\n",
    "unseenDataAccuracy = abs(accuracy_score(test_y_cat, y_pred_cat)*100)\n",
    "print(\"Training Accuracy - {} \\n Unseen Data Accuracy - {}\".format(train_accuracy,unseenDataAccuracy))"
   ]
  },
  {
   "cell_type": "code",
   "execution_count": null,
   "metadata": {},
   "outputs": [],
   "source": [
    "print(\"F1 Score: {0:0.2f}\".format(f1_score(test_y_cat,y_pred_cat)))\n",
    "print('Average precision-recall score: {0:0.2f}'.format(\n",
    "  average_precision_score(test_y_cat,y_pred_cat)))\n",
    "cf_matrix=confusion_matrix(test_y_cat,y_pred_cat)\n",
    "sns.heatmap(cf_matrix, annot=True)\n",
    "print(\"No of wrong predictions:{}\".format(cf_matrix[0][1]+cf_matrix[1][0]))\n",
    "print(\"Roc Auc Score: {0:0.2f}\".format(roc_auc_score(test_y_cat,y_pred_cat)))\n",
    "fpr, tpr, thresholds = roc_curve(test_y_cat,y_pred_cat)\n",
    "plt.title('Receiver Operating Characteristic')\n",
    "plt.plot(fpr, tpr, 'b')\n",
    "plt.legend(loc = 'lower right')\n",
    "plt.plot([0, 1], [0, 1],'r--')\n",
    "plt.xlim([0, 1])\n",
    "plt.ylim([0, 1])\n",
    "plt.ylabel('True Positive Rate')\n",
    "plt.xlabel('False Positive Rate')\n",
    "plt.show()"
   ]
  },
  {
   "cell_type": "code",
   "execution_count": null,
   "metadata": {},
   "outputs": [],
   "source": []
  },
  {
   "cell_type": "code",
   "execution_count": null,
   "metadata": {},
   "outputs": [],
   "source": []
  }
 ],
 "metadata": {
  "kernelspec": {
   "display_name": "Python 3",
   "language": "python",
   "name": "python3"
  },
  "language_info": {
   "codemirror_mode": {
    "name": "ipython",
    "version": 3
   },
   "file_extension": ".py",
   "mimetype": "text/x-python",
   "name": "python",
   "nbconvert_exporter": "python",
   "pygments_lexer": "ipython3",
   "version": "3.7.5"
  }
 },
 "nbformat": 4,
 "nbformat_minor": 2
}
